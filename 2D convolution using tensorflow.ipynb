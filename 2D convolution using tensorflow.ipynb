{
 "cells": [
  {
   "cell_type": "code",
   "execution_count": 6,
   "id": "c9c7c15c",
   "metadata": {},
   "outputs": [
    {
     "ename": "ImportError",
     "evalue": "cannot import name 'layers' from 'tensorflow' (C:\\Users\\AYUSH SINGH\\AppData\\Roaming\\Python\\Python310\\site-packages\\tensorflow\\__init__.py)",
     "output_type": "error",
     "traceback": [
      "\u001b[1;31m---------------------------------------------------------------------------\u001b[0m",
      "\u001b[1;31mImportError\u001b[0m                               Traceback (most recent call last)",
      "Cell \u001b[1;32mIn[6], line 3\u001b[0m\n\u001b[0;32m      1\u001b[0m \u001b[38;5;28;01mimport\u001b[39;00m \u001b[38;5;21;01mtensorflow\u001b[39;00m \u001b[38;5;28;01mas\u001b[39;00m \u001b[38;5;21;01mtf\u001b[39;00m\n\u001b[1;32m----> 3\u001b[0m \u001b[38;5;28;01mfrom\u001b[39;00m \u001b[38;5;21;01mtensorflow\u001b[39;00m \u001b[38;5;28;01mimport\u001b[39;00m layers\n",
      "\u001b[1;31mImportError\u001b[0m: cannot import name 'layers' from 'tensorflow' (C:\\Users\\AYUSH SINGH\\AppData\\Roaming\\Python\\Python310\\site-packages\\tensorflow\\__init__.py)"
     ]
    }
   ],
   "source": [
    "import tensorflow as tf\n",
    "\n"
   ]
  },
  {
   "cell_type": "code",
   "execution_count": 2,
   "id": "2ca107d9",
   "metadata": {},
   "outputs": [],
   "source": [
    "\n",
    "\n",
    "inp = tf.constant([\n",
    "    [[[1.0, -2.0], [2.0, 1.0], [-2.0, 3.0], [-1.2, 0.0]],\n",
    "     [[2.0, 2.0], [3.0, -2.0], [-3.1, -4.0], [2.0, 0.0]],\n",
    "     [[3.0, 0.0], [-2.0, -2.0], [2.0, -1.0], [5.0, -2.0]],\n",
    "     [[0.0, 3.0], [1.0, -1.0], [3.0, 1.0], [0.0, 1.0]]]\n",
    "], dtype=tf.float32)\n"
   ]
  },
  {
   "cell_type": "code",
   "execution_count": 7,
   "id": "0fa43701",
   "metadata": {},
   "outputs": [],
   "source": [
    "# 2 ouput feature map kernerl size =2x2 stride =1\n",
    "# Create a Conv2D layer using tf.keras.layers\n",
    "conv = tf.keras.layers.Conv2D(2, (2, 2), (1, 1), \"valid\", activation=None)\n",
    "                      \n"
   ]
  },
  {
   "cell_type": "code",
   "execution_count": 9,
   "id": "d39f548f",
   "metadata": {},
   "outputs": [
    {
     "name": "stdout",
     "output_type": "stream",
     "text": [
      "[[[ 1.  -2. ]\n",
      "  [ 2.   1. ]\n",
      "  [-2.   3. ]\n",
      "  [-1.2  0. ]]\n",
      "\n",
      " [[ 2.   2. ]\n",
      "  [ 3.  -2. ]\n",
      "  [-3.1 -4. ]\n",
      "  [ 2.   0. ]]\n",
      "\n",
      " [[ 3.   0. ]\n",
      "  [-2.  -2. ]\n",
      "  [ 2.  -1. ]\n",
      "  [ 5.  -2. ]]\n",
      "\n",
      " [[ 0.   3. ]\n",
      "  [ 1.  -1. ]\n",
      "  [ 3.   1. ]\n",
      "  [ 0.   1. ]]]\n"
     ]
    }
   ],
   "source": [
    "\n",
    "conv_bias_initializer=tf.constant_initializer([0.1,0.2])\n",
    "initializer = tf.constant_initializer([[[[1, -2], [-2, 1]], [[1, 0], [0, 2]], [[0, 0], [0, 4]]]])\n",
    "\n",
    "O=conv(inp)\n",
    "\n",
    "print(inp.numpy()[0,:,:,:])"
   ]
  },
  {
   "cell_type": "code",
   "execution_count": null,
   "id": "3284901e",
   "metadata": {},
   "outputs": [],
   "source": []
  }
 ],
 "metadata": {
  "kernelspec": {
   "display_name": "Python 3 (ipykernel)",
   "language": "python",
   "name": "python3"
  },
  "language_info": {
   "codemirror_mode": {
    "name": "ipython",
    "version": 3
   },
   "file_extension": ".py",
   "mimetype": "text/x-python",
   "name": "python",
   "nbconvert_exporter": "python",
   "pygments_lexer": "ipython3",
   "version": "3.10.9"
  }
 },
 "nbformat": 4,
 "nbformat_minor": 5
}
